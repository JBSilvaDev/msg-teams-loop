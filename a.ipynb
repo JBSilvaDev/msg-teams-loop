{
 "cells": [
  {
   "cell_type": "code",
   "execution_count": null,
   "metadata": {},
   "outputs": [],
   "source": [
    "import pymsteams\n",
    "from controller.variaveis import *\n",
    "from data.controller import DbFilter\n",
    "from models.msg_model import MsgModel\n",
    "\n",
    "df = DbFilter()\n",
    "\n",
    "\n",
    "class TeamsController:\n",
    "    def __init__(self):\n",
    "        self.team = TEAMS_LINKS\n",
    "        self.team_model = MsgModel()\n",
    "        self.connect = pymsteams.connectorcard(self.team, verify=False)\n",
    "        self.create_card = pymsteams.cardsection()\n",
    "        self.dic = self.team_model.msg_final\n",
    "\n",
    "    def send_teams(self):\n",
    "        self.connect.text(\" \")\n",
    "        self.create_card.activityTitle(\"Logística Celulose Mucuri\")\n",
    "        self.create_card.activityImage(self.team_model.logo)\n",
    "        self.create_card.activityText(self.team_model.activityText)\n",
    "        self.create_card.text(self.team_model.title_msg)\n",
    "        for key in self.dic:\n",
    "            self.create_card.addFact(str(key), str(self.dic[key]))\n",
    "        self.connect.addSection(self.create_card)\n",
    "        self.connect.send()\n"
   ]
  }
 ],
 "metadata": {
  "language_info": {
   "name": "python"
  }
 },
 "nbformat": 4,
 "nbformat_minor": 2
}
